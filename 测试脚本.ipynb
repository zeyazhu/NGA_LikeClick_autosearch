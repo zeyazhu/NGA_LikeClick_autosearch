{
 "cells": [
  {
   "cell_type": "code",
   "execution_count": 73,
   "metadata": {},
   "outputs": [
    {
     "name": "stdout",
     "output_type": "stream",
     "text": [
      "uid:slime7783 ,likes：52\n",
      "uid:shangxufeng ,likes：248\n",
      "uid:清蒸鲈鱼 ,likes：76\n",
      "uid:蒜灬头 ,likes：13\n",
      "uid:org30h ,likes：476\n",
      "uid:千雪之心 ,likes：7\n",
      "uid:mouseteam ,likes：6\n",
      "uid:luxin433 ,likes：481\n",
      "uid:拉芮 ,likes：101\n",
      "uid:_江天万里霜_ ,likes：1200\n",
      "uid:deathnation ,likes：1696\n",
      "uid:shefxie ,likes：9\n",
      "uid:Bancreal ,likes：0\n",
      "end\n"
     ]
    }
   ],
   "source": [
    "%run nga.py\n",
    "import requests\n",
    "import re\n",
    "import bs4\n",
    "with open(\"dotaWD.txt\", \"r\",encoding='utf-8') as f:  # 打开文件\n",
    "#f = open('banzhu.txt',mode='w',encoding='utf-8')#解决了很多编码问题，一定要加 encoding这句话\n",
    "    data = f.readlines()  # 读取文件\n",
    "    #print(data)\n",
    "    for l in data:\n",
    "        l = l.strip(\"\\n\")\n",
    "        name=''.join(l)\n",
    "        #print(name)\n",
    "        #print('版主名:%s,赞数是：%s'%(l,getLike(l)))\n",
    "        getLike(name)\n",
    "    print('end')"
   ]
  },
  {
   "cell_type": "code",
   "execution_count": 71,
   "metadata": {},
   "outputs": [
    {
     "name": "stdout",
     "output_type": "stream",
     "text": [
      "0\n"
     ]
    }
   ],
   "source": [
    "getLike('yomuu')"
   ]
  },
  {
   "cell_type": "code",
   "execution_count": null,
   "metadata": {},
   "outputs": [],
   "source": []
  }
 ],
 "metadata": {
  "kernelspec": {
   "display_name": "Python 3",
   "language": "python",
   "name": "python3"
  },
  "language_info": {
   "codemirror_mode": {
    "name": "ipython",
    "version": 3
   },
   "file_extension": ".py",
   "mimetype": "text/x-python",
   "name": "python",
   "nbconvert_exporter": "python",
   "pygments_lexer": "ipython3",
   "version": "3.7.6"
  }
 },
 "nbformat": 4,
 "nbformat_minor": 4
}
